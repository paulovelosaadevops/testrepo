{
 "cells": [
  {
   "cell_type": "markdown",
   "metadata": {},
   "source": [
    "<center>\n",
    "    <img src=\"https://cf-courses-data.s3.us.cloud-object-storage.appdomain.cloud/IBMDeveloperSkillsNetwork-DS0105EN-SkillsNetwork/labs/Module2/images/SN_web_lightmode.png\" width=\"300\" alt=\"cognitiveclass.ai logo\">\n",
    "</center>\n"
   ]
  },
  {
   "cell_type": "markdown",
   "metadata": {},
   "source": [
    "<H1>Data Science Tools and Ecosystem</H1>"
   ]
  },
  {
   "cell_type": "markdown",
   "metadata": {},
   "source": [
    "In this notebook, Data Science Tools and Ecosystem are summarized."
   ]
  },
  {
   "cell_type": "markdown",
   "metadata": {},
   "source": [
    "Exercise 10:\n",
    "**Principais objetivos alcançados no curso**\n",
    "1. Ferramentas para utilizar na Ciência de Dados.\n",
    "2. Principais linguagens utilizadas na Ciência de Dados.\n",
    "3. Importância do versionamento no GIT.\n",
    "4. Relevância da Ciencia de Dados para as organizações."
   ]
  },
  {
   "cell_type": "markdown",
   "metadata": {},
   "source": [
    "Some of the popular languages that Data Scientists use are:\n",
    "1) R\n",
    "2) Python\n",
    "3) Scala\n",
    "4) Julia"
   ]
  },
  {
   "cell_type": "markdown",
   "metadata": {},
   "source": [
    "Some of the commonly used libraries used by Data Scientists include:"
   ]
  },
  {
   "cell_type": "markdown",
   "metadata": {
    "tags": []
   },
   "source": [
    "1. Pandas\n",
    "2. Matplotlib\n",
    "3. Plotly"
   ]
  },
  {
   "cell_type": "markdown",
   "metadata": {
    "tags": []
   },
   "source": [
    "### Data Science Tools\n",
    "| DataScienteTools |\n",
    "| --- |\n",
    "| Python |\n",
    "| Anaconda |\n",
    "| Apache Spark |\n",
    "| Jupyter |"
   ]
  },
  {
   "cell_type": "markdown",
   "metadata": {
    "tags": []
   },
   "source": [
    "<H3>Below are a few examples of evaluating arithmetic expressions in Python.<H3>"
   ]
  },
  {
   "cell_type": "code",
   "execution_count": 6,
   "metadata": {
    "tags": []
   },
   "outputs": [
    {
     "name": "stdout",
     "output_type": "stream",
     "text": [
      "esta é uma expressão aritmética simples para adicionar vários números inteiros\n",
      "30\n"
     ]
    }
   ],
   "source": [
    "print('esta é uma expressão aritmética simples para adicionar vários números inteiros')\n",
    "a = 10\n",
    "b = 5\n",
    "x = (a+b)*2\n",
    "print(x)"
   ]
  },
  {
   "cell_type": "code",
   "execution_count": 9,
   "metadata": {
    "tags": []
   },
   "outputs": [
    {
     "name": "stdout",
     "output_type": "stream",
     "text": [
      "Isso converterá 200 minutos em horas mergulhando em 60\n",
      "200 minutos em horas é:3.3333333333333335\n"
     ]
    }
   ],
   "source": [
    "print('Isso converterá 200 minutos em horas mergulhando em 60')\n",
    "horas = 200/60\n",
    "print('200 minutos em horas é:' + str(horas))"
   ]
  },
  {
   "cell_type": "markdown",
   "metadata": {},
   "source": [
    "Abaixo da célula de introdução criada no Exercício 3, insira uma nova célula markdown para listar os objetivos que este caderno abordou (ou seja, algumas das principais conclusões do curso). Nesta nova célula, comece com uma linha introdutória intitulada: em negrito. Em seguida, usando um (marcadores) indique de 3 a 5 itens abordados neste caderno, como."
   ]
  },
  {
   "cell_type": "markdown",
   "metadata": {
    "tags": []
   },
   "source": [
    "<H2>Author</H2> Paulo Vinicius Velosa Bertão\n"
   ]
  },
  {
   "cell_type": "markdown",
   "metadata": {},
   "source": []
  }
 ],
 "metadata": {
  "kernelspec": {
   "display_name": "Python",
   "language": "python",
   "name": "conda-env-python-py"
  },
  "language_info": {
   "codemirror_mode": {
    "name": "ipython",
    "version": 3
   },
   "file_extension": ".py",
   "mimetype": "text/x-python",
   "name": "python",
   "nbconvert_exporter": "python",
   "pygments_lexer": "ipython3",
   "version": "3.7.12"
  }
 },
 "nbformat": 4,
 "nbformat_minor": 4
}
